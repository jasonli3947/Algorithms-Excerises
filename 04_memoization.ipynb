{
 "cells": [
  {
   "cell_type": "markdown",
   "metadata": {},
   "source": [
    "# Memoization\n",
    "\n",
    "Remove redundant calls by saving the value of anything we already computed"
   ]
  },
  {
   "cell_type": "code",
   "execution_count": 8,
   "metadata": {},
   "outputs": [],
   "source": [
    "# returns the nth Fibonacci number\n",
    "def fibRecursive(n):\n",
    "    if n == 0:\n",
    "        return 0\n",
    "    elif n == 1:\n",
    "        return 1\n",
    "    else:\n",
    "        return fibRecursive(n-1) + fibRecursive(n-2)\n",
    "\n",
    "# returns the first n Fibonacci numbers    \n",
    "def fibSequence(n):\n",
    "    seq = [ ]\n",
    "    if n > 0:\n",
    "        seq.extend(fibSequence(n-1))\n",
    "    seq.append(fibRecursive(n))\n",
    "    return seq"
   ]
  },
  {
   "cell_type": "code",
   "execution_count": 9,
   "metadata": {},
   "outputs": [
    {
     "data": {
      "text/plain": [
       "[0, 1, 1, 2, 3, 5, 8, 13, 21, 34, 55, 89, 144, 233, 377, 610]"
      ]
     },
     "execution_count": 9,
     "metadata": {},
     "output_type": "execute_result"
    }
   ],
   "source": [
    "fibSequence(15)"
   ]
  },
  {
   "cell_type": "code",
   "execution_count": 10,
   "metadata": {},
   "outputs": [],
   "source": [
    "# returns the nth Fibonacci number and prints where we are whenever the function is called\n",
    "def fibRecursivePrint(n):\n",
    "    print(n)\n",
    "    if n == 0:\n",
    "        return 0\n",
    "    elif n == 1:\n",
    "        return 1\n",
    "    else:\n",
    "        return fibRecursivePrint(n-1) + fibRecursivePrint(n-2)"
   ]
  },
  {
   "cell_type": "code",
   "execution_count": 11,
   "metadata": {},
   "outputs": [
    {
     "name": "stdout",
     "output_type": "stream",
     "text": [
      "4\n",
      "3\n",
      "2\n",
      "1\n",
      "0\n",
      "1\n",
      "2\n",
      "1\n",
      "0\n"
     ]
    },
    {
     "data": {
      "text/plain": [
       "3"
      ]
     },
     "execution_count": 11,
     "metadata": {},
     "output_type": "execute_result"
    }
   ],
   "source": [
    "fibRecursivePrint(4)"
   ]
  },
  {
   "cell_type": "code",
   "execution_count": 12,
   "metadata": {},
   "outputs": [
    {
     "name": "stdout",
     "output_type": "stream",
     "text": [
      "7\n",
      "6\n",
      "5\n",
      "4\n",
      "3\n",
      "2\n",
      "1\n",
      "0\n",
      "1\n",
      "2\n",
      "1\n",
      "0\n",
      "3\n",
      "2\n",
      "1\n",
      "0\n",
      "1\n",
      "4\n",
      "3\n",
      "2\n",
      "1\n",
      "0\n",
      "1\n",
      "2\n",
      "1\n",
      "0\n",
      "5\n",
      "4\n",
      "3\n",
      "2\n",
      "1\n",
      "0\n",
      "1\n",
      "2\n",
      "1\n",
      "0\n",
      "3\n",
      "2\n",
      "1\n",
      "0\n",
      "1\n"
     ]
    },
    {
     "data": {
      "text/plain": [
       "13"
      ]
     },
     "execution_count": 12,
     "metadata": {},
     "output_type": "execute_result"
    }
   ],
   "source": [
    "fibRecursivePrint(7)"
   ]
  },
  {
   "cell_type": "markdown",
   "metadata": {},
   "source": [
    "#### Quick detour\n",
    "\n",
    "Functions can return functions\n",
    "\n"
   ]
  },
  {
   "cell_type": "code",
   "execution_count": 13,
   "metadata": {},
   "outputs": [
    {
     "name": "stdout",
     "output_type": "stream",
     "text": [
      "<function f.<locals>.g at 0x0000024116CF5D30>\n"
     ]
    },
    {
     "data": {
      "text/plain": [
       "6"
      ]
     },
     "execution_count": 13,
     "metadata": {},
     "output_type": "execute_result"
    }
   ],
   "source": [
    "def f(x):\n",
    "    def g(y):\n",
    "        return y+x+2\n",
    "    return g\n",
    "\n",
    "print(f(1))\n",
    "\n",
    "f(1)(3)\n",
    "\n",
    "func1=f(1)\n",
    "func1(3)"
   ]
  },
  {
   "cell_type": "markdown",
   "metadata": {},
   "source": [
    "Continuing to memoization"
   ]
  },
  {
   "cell_type": "code",
   "execution_count": 14,
   "metadata": {},
   "outputs": [],
   "source": [
    "def memoize(f):\n",
    "    memo = {}\n",
    "    def helper(x):\n",
    "        if x not in memo:            \n",
    "            memo[x] = f(x)\n",
    "            if x>14:\n",
    "                print(memo)\n",
    "        return memo[x]\n",
    "    return helper"
   ]
  },
  {
   "cell_type": "code",
   "execution_count": 15,
   "metadata": {},
   "outputs": [
    {
     "name": "stdout",
     "output_type": "stream",
     "text": [
      "no memoization: \n",
      "         5201 function calls (52 primitive calls) in 0.016 seconds\n",
      "\n",
      "   Ordered by: standard name\n",
      "\n",
      "   ncalls  tottime  percall  cumtime  percall filename:lineno(function)\n",
      "     16/1    0.000    0.000    0.016    0.016 2714535321.py:11(fibSequence)\n",
      "  5150/16    0.016    0.000    0.016    0.001 2714535321.py:2(fibRecursive)\n",
      "       16    0.000    0.000    0.000    0.000 :0(append)\n",
      "        1    0.000    0.000    0.016    0.016 :0(exec)\n",
      "       15    0.000    0.000    0.000    0.000 :0(extend)\n",
      "        1    0.000    0.000    0.000    0.000 :0(setprofile)\n",
      "        1    0.000    0.000    0.016    0.016 <string>:1(<module>)\n",
      "        1    0.000    0.000    0.016    0.016 profile:0(fibSequence(15))\n",
      "        0    0.000             0.000          profile:0(profiler)\n",
      "\n",
      "\n",
      "fibRecursive memoized: \n",
      "{0: 0, 1: 1, 2: 1, 3: 2, 4: 3, 5: 5, 6: 8, 7: 13, 8: 21, 9: 34, 10: 55, 11: 89, 12: 144, 13: 233, 14: 377, 15: 610}\n",
      "         140 function calls (97 primitive calls) in 0.000 seconds\n",
      "\n",
      "   Ordered by: standard name\n",
      "\n",
      "   ncalls  tottime  percall  cumtime  percall filename:lineno(function)\n",
      "     16/1    0.000    0.000    0.000    0.000 2714535321.py:11(fibSequence)\n",
      "    44/16    0.000    0.000    0.000    0.000 2721557031.py:3(helper)\n",
      "       16    0.000    0.000    0.000    0.000 3792804352.py:8(fibRecursive)\n",
      "        2    0.000    0.000    0.000    0.000 :0(acquire)\n",
      "       18    0.000    0.000    0.000    0.000 :0(append)\n",
      "        1    0.000    0.000    0.000    0.000 :0(exec)\n",
      "       15    0.000    0.000    0.000    0.000 :0(extend)\n",
      "        2    0.000    0.000    0.000    0.000 :0(getpid)\n",
      "        2    0.000    0.000    0.000    0.000 :0(isinstance)\n",
      "        2    0.000    0.000    0.000    0.000 :0(len)\n",
      "        1    0.000    0.000    0.000    0.000 :0(print)\n",
      "        1    0.000    0.000    0.000    0.000 :0(setprofile)\n",
      "        1    0.000    0.000    0.000    0.000 <string>:1(<module>)\n",
      "        2    0.000    0.000    0.000    0.000 iostream.py:206(schedule)\n",
      "        2    0.000    0.000    0.000    0.000 iostream.py:418(_is_master_process)\n",
      "        2    0.000    0.000    0.000    0.000 iostream.py:437(_schedule_flush)\n",
      "        2    0.000    0.000    0.000    0.000 iostream.py:500(write)\n",
      "        2    0.000    0.000    0.000    0.000 iostream.py:96(_event_pipe)\n",
      "        1    0.000    0.000    0.000    0.000 profile:0(fibSequence(15))\n",
      "        0    0.000             0.000          profile:0(profiler)\n",
      "        2    0.000    0.000    0.000    0.000 socket.py:474(send)\n",
      "        2    0.000    0.000    0.000    0.000 threading.py:1017(_wait_for_tstate_lock)\n",
      "        2    0.000    0.000    0.000    0.000 threading.py:1071(is_alive)\n",
      "        2    0.000    0.000    0.000    0.000 threading.py:513(is_set)\n",
      "\n",
      "\n",
      "both functions memoized: \n",
      "{0: [0], 1: [0, 1], 2: [0, 1, 1], 3: [0, 1, 1, 2], 4: [0, 1, 1, 2, 3], 5: [0, 1, 1, 2, 3, 5], 6: [0, 1, 1, 2, 3, 5, 8], 7: [0, 1, 1, 2, 3, 5, 8, 13], 8: [0, 1, 1, 2, 3, 5, 8, 13, 21], 9: [0, 1, 1, 2, 3, 5, 8, 13, 21, 34], 10: [0, 1, 1, 2, 3, 5, 8, 13, 21, 34, 55], 11: [0, 1, 1, 2, 3, 5, 8, 13, 21, 34, 55, 89], 12: [0, 1, 1, 2, 3, 5, 8, 13, 21, 34, 55, 89, 144], 13: [0, 1, 1, 2, 3, 5, 8, 13, 21, 34, 55, 89, 144, 233], 14: [0, 1, 1, 2, 3, 5, 8, 13, 21, 34, 55, 89, 144, 233, 377], 15: [0, 1, 1, 2, 3, 5, 8, 13, 21, 34, 55, 89, 144, 233, 377, 610]}\n",
      "         112 function calls (66 primitive calls) in 0.000 seconds\n",
      "\n",
      "   Ordered by: standard name\n",
      "\n",
      "   ncalls  tottime  percall  cumtime  percall filename:lineno(function)\n",
      "     32/1    0.000    0.000    0.000    0.000 2721557031.py:3(helper)\n",
      "     16/1    0.000    0.000    0.000    0.000 3792804352.py:21(fibSequence)\n",
      "        2    0.000    0.000    0.000    0.000 :0(acquire)\n",
      "       18    0.000    0.000    0.000    0.000 :0(append)\n",
      "        1    0.000    0.000    0.000    0.000 :0(exec)\n",
      "       15    0.000    0.000    0.000    0.000 :0(extend)\n",
      "        2    0.000    0.000    0.000    0.000 :0(getpid)\n",
      "        2    0.000    0.000    0.000    0.000 :0(isinstance)\n",
      "        2    0.000    0.000    0.000    0.000 :0(len)\n",
      "        1    0.000    0.000    0.000    0.000 :0(print)\n",
      "        1    0.000    0.000    0.000    0.000 :0(setprofile)\n",
      "        1    0.000    0.000    0.000    0.000 <string>:1(<module>)\n",
      "        2    0.000    0.000    0.000    0.000 iostream.py:206(schedule)\n",
      "        2    0.000    0.000    0.000    0.000 iostream.py:418(_is_master_process)\n",
      "        2    0.000    0.000    0.000    0.000 iostream.py:437(_schedule_flush)\n",
      "        2    0.000    0.000    0.000    0.000 iostream.py:500(write)\n",
      "        2    0.000    0.000    0.000    0.000 iostream.py:96(_event_pipe)\n",
      "        1    0.000    0.000    0.000    0.000 profile:0(fibSequence(15))\n",
      "        0    0.000             0.000          profile:0(profiler)\n",
      "        2    0.000    0.000    0.000    0.000 socket.py:474(send)\n",
      "        2    0.000    0.000    0.000    0.000 threading.py:1017(_wait_for_tstate_lock)\n",
      "        2    0.000    0.000    0.000    0.000 threading.py:1071(is_alive)\n",
      "        2    0.000    0.000    0.000    0.000 threading.py:513(is_set)\n",
      "\n",
      "\n"
     ]
    }
   ],
   "source": [
    "import profile\n",
    "\n",
    "print(\"no memoization: \")\n",
    "profile.run('fibSequence(15)')\n",
    "\n",
    "\n",
    "# this is shorthand for fibRecursive=memoize(fibRecursive). It has to be IMMEDIATELY before the function\n",
    "@memoize\n",
    "def fibRecursive(n):\n",
    "    if n == 0:\n",
    "        return 0\n",
    "    elif n == 1:\n",
    "        return 1\n",
    "    else:\n",
    "        return fibRecursive(n-1) + fibRecursive(n-2)\n",
    "    \n",
    "    \n",
    "print(\"fibRecursive memoized: \")\n",
    "profile.run('fibSequence(15)')\n",
    "\n",
    "@memoize\n",
    "def fibSequence(n):\n",
    "    seq = [ ]\n",
    "    if n > 0:\n",
    "        seq.extend(fibSequence(n-1))\n",
    "    seq.append(fibRecursive(n))\n",
    "    return seq\n",
    "\n",
    "print(\"both functions memoized: \")\n",
    "profile.run('fibSequence(15)')"
   ]
  },
  {
   "cell_type": "markdown",
   "metadata": {},
   "source": [
    "More on decorators\n",
    "\n",
    "https://www.python-course.eu/python3_decorators.php"
   ]
  },
  {
   "cell_type": "code",
   "execution_count": null,
   "metadata": {},
   "outputs": [],
   "source": []
  }
 ],
 "metadata": {
  "kernelspec": {
   "display_name": "Python 3 (ipykernel)",
   "language": "python",
   "name": "python3"
  },
  "language_info": {
   "codemirror_mode": {
    "name": "ipython",
    "version": 3
   },
   "file_extension": ".py",
   "mimetype": "text/x-python",
   "name": "python",
   "nbconvert_exporter": "python",
   "pygments_lexer": "ipython3",
   "version": "3.8.8"
  }
 },
 "nbformat": 4,
 "nbformat_minor": 4
}
