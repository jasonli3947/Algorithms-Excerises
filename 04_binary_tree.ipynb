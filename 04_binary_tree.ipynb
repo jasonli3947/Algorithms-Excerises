{
 "cells": [
  {
   "cell_type": "markdown",
   "metadata": {},
   "source": [
    "## Binary search tree\n",
    "\n",
    "In a binary search tree, each node has at most two children - left and right. It has many uses: priority queue, dictionary, etc. It is more useful if it is balanced, but we will not consider balancing here."
   ]
  },
  {
   "cell_type": "code",
   "execution_count": 4,
   "metadata": {},
   "outputs": [],
   "source": [
    "class TreeNode():\n",
    "    '''Recursive definition of a binary tree'''\n",
    "    \n",
    "    def __init__(self,key, satellite_data=None):\n",
    "        self.key = key\n",
    "        self.data = satellite_data\n",
    "        self.parent = None\n",
    "        self.left = None\n",
    "        self.right = None\n",
    "    \n",
    "    # set Parent, left child and right child\n",
    "    def setParent(self, parent):\n",
    "        self.parent=parent\n",
    "    def setLeft(self, child):\n",
    "        self.left=child\n",
    "    def setRight(self, child):\n",
    "        self.right=child\n",
    "        \n",
    "        \n",
    "    def getKey(self):\n",
    "         return self.key\n",
    "    def getData(self):\n",
    "         return self.data\n",
    "    def isRoot(self):\n",
    "         return not self.parent==None\n",
    "    def isLeaf(self):\n",
    "         return self.left==None and self.right==None\n",
    "    def __str__(self):\n",
    "        return str(self.key)\n",
    "    \n",
    "    # recursively search for key in tree\n",
    "    def search(self,key):\n",
    "        if self.key == key:\n",
    "            return True\n",
    "        if key<self.key:\n",
    "            if self.left == None:\n",
    "                return False\n",
    "            return self.left.search(key)\n",
    "        else:\n",
    "            if self.right==None:\n",
    "                return False\n",
    "            return self.right.search(key)\n",
    "    \n",
    "    # traverse the tree from left to right, printing out the keys\n",
    "    # print out left sub-tree, self and right sub-tree\n",
    "    def inorderWalk(self):\n",
    "        if self.left != None:\n",
    "            self.left.inorderWalk()\n",
    "        print(self.key)\n",
    "        if self.right != None:\n",
    "            self.right.inorderWalk()"
   ]
  },
  {
   "cell_type": "code",
   "execution_count": 5,
   "metadata": {},
   "outputs": [],
   "source": [
    "class Tree(TreeNode):\n",
    "    ''' a Tree is a TreeNode with a varaible for the depth'''\n",
    "    def __init__(self,key, satellite_data=None):\n",
    "        TreeNode.__init__(self,key, satellite_data=None)\n",
    "        self.depth=1\n",
    "        \n",
    "    def insert(self,key):\n",
    "        #search for the right place to insert the key. Key must be a right or left child of some node\n",
    "\n",
    "        new_node=TreeNode(key)\n",
    "        curr_node = self\n",
    "        curr_depth = 1\n",
    "        while True:\n",
    "            if new_node.key>curr_node.key:\n",
    "                if curr_node.right == None:\n",
    "                    curr_node.setRight(new_node)\n",
    "                    new_node.setParent(curr_node)\n",
    "                    if curr_depth>self.depth:\n",
    "                        self.depth=curr_depth+1 \n",
    "                    return\n",
    "                else: \n",
    "                    curr_node = curr_node.right\n",
    "                    curr_depth+=1\n",
    "            else:\n",
    "                if curr_node.left == None:\n",
    "                    curr_node.setLeft(new_node)\n",
    "                    new_node.setParent(curr_node)\n",
    "                    if curr_depth>self.depth:\n",
    "                        self.depth=curr_depth+1 \n",
    "                    return\n",
    "                else: \n",
    "                    curr_node = curr_node.left\n",
    "                    curr_depth+=1\n",
    "                    \n",
    "               \n",
    "    def getDepth(self):\n",
    "        return self.depth\n",
    "        "
   ]
  },
  {
   "cell_type": "code",
   "execution_count": 7,
   "metadata": {},
   "outputs": [
    {
     "name": "stdout",
     "output_type": "stream",
     "text": [
      "0\n",
      "1\n",
      "1\n",
      "2\n",
      "3\n",
      "4\n",
      "5\n",
      "6\n",
      "7\n",
      "8\n",
      "9\n",
      "depth =  9\n"
     ]
    }
   ],
   "source": [
    "a=Tree(1)\n",
    "\n",
    "for i in range(10):\n",
    "    a.insert(i)\n",
    "a.inorderWalk()\n",
    "print(\"depth = \",a.getDepth())"
   ]
  },
  {
   "cell_type": "code",
   "execution_count": null,
   "metadata": {},
   "outputs": [],
   "source": []
  }
 ],
 "metadata": {
  "kernelspec": {
   "display_name": "Python 3 (ipykernel)",
   "language": "python",
   "name": "python3"
  },
  "language_info": {
   "codemirror_mode": {
    "name": "ipython",
    "version": 3
   },
   "file_extension": ".py",
   "mimetype": "text/x-python",
   "name": "python",
   "nbconvert_exporter": "python",
   "pygments_lexer": "ipython3",
   "version": "3.8.8"
  }
 },
 "nbformat": 4,
 "nbformat_minor": 4
}
