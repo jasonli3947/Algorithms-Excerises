{
 "cells": [
  {
   "cell_type": "markdown",
   "metadata": {},
   "source": [
    "## Classes, objects and inheritance\n"
   ]
  },
  {
   "cell_type": "code",
   "execution_count": null,
   "metadata": {},
   "outputs": [],
   "source": [
    "class fish_in_tank():\n",
    "    \n",
    "    def __init__(self,number):\n",
    "        self.number=number\n",
    "        \n",
    "    def add(self):\n",
    "        self.number +=1\n",
    "        \n",
    "    def remove(self):\n",
    "        self.number-=1\n",
    "    \n",
    "        "
   ]
  },
  {
   "cell_type": "code",
   "execution_count": null,
   "metadata": {},
   "outputs": [],
   "source": [
    "karp=fish_in_tank(10)\n",
    "catfish = fish_in_tank(5)"
   ]
  },
  {
   "cell_type": "code",
   "execution_count": null,
   "metadata": {},
   "outputs": [],
   "source": [
    "karp.add()\n",
    "print(\"number of karp = \",karp.number)\n",
    "print(\"number of catfish = \",catfish.number)"
   ]
  },
  {
   "cell_type": "code",
   "execution_count": null,
   "metadata": {},
   "outputs": [],
   "source": [
    "class shark_in_tank(fish_in_tank):\n",
    "    def __init__(self,number, size):\n",
    "        self.number=number\n",
    "        self.size = size\n",
    "    \n",
    "    def change_size(self,new_size):\n",
    "        self.size=new_size"
   ]
  },
  {
   "cell_type": "code",
   "execution_count": null,
   "metadata": {},
   "outputs": [],
   "source": [
    "hammerhead=shark_in_tank(2,'large')\n",
    "#hammerhead=shark_in_tank(2)\n",
    "hammerhead.add()\n",
    "hammerhead.number"
   ]
  },
  {
   "cell_type": "code",
   "execution_count": null,
   "metadata": {},
   "outputs": [],
   "source": [
    "class doublefish_in_tank(fish_in_tank):\n",
    "    \n",
    "    def add(self):\n",
    "        self.number +=2\n",
    "    \n",
    "    "
   ]
  },
  {
   "cell_type": "code",
   "execution_count": null,
   "metadata": {},
   "outputs": [],
   "source": [
    "dfish = doublefish_in_tank(4)\n",
    "dfish.add()\n",
    "dfish.remove()\n",
    "dfish.number"
   ]
  }
 ],
 "metadata": {
  "kernelspec": {
   "display_name": "Python 3 (ipykernel)",
   "language": "python",
   "name": "python3"
  },
  "language_info": {
   "codemirror_mode": {
    "name": "ipython",
    "version": 3
   },
   "file_extension": ".py",
   "mimetype": "text/x-python",
   "name": "python",
   "nbconvert_exporter": "python",
   "pygments_lexer": "ipython3",
   "version": "3.8.8"
  }
 },
 "nbformat": 4,
 "nbformat_minor": 2
}
