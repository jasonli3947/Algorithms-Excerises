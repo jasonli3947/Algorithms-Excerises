{
 "cells": [
  {
   "cell_type": "markdown",
   "metadata": {},
   "source": [
    "### Linear programming \n",
    "#### The fruits example"
   ]
  },
  {
   "cell_type": "code",
   "execution_count": null,
   "metadata": {},
   "outputs": [],
   "source": [
    "from pulp import * \n"
   ]
  },
  {
   "cell_type": "code",
   "execution_count": null,
   "metadata": {},
   "outputs": [],
   "source": [
    "#define the LP\n",
    "prob = LpProblem(name=\"fruits\", sense=LpMinimize)\n",
    "\n",
    "# variables\n",
    "a=LpVariable(\"apple\",0, cat=\"Integer\")\n",
    "b=LpVariable(\"banana\",0, cat=\"Integer\")\n",
    "c=LpVariable(\"cherry\",0, cat=\"Integer\")\n",
    "\n",
    "# constraint\n",
    "prob += 10*a+20*b+5*c >=55\n",
    "prob += 20*a+15*b+40*c >=70\n",
    "\n",
    "# objective\n",
    "prob += 30*a+20*b+50*c\n",
    "\n",
    "prob\n"
   ]
  },
  {
   "cell_type": "code",
   "execution_count": null,
   "metadata": {},
   "outputs": [],
   "source": [
    "#solve \n",
    "status = prob.solve()\n"
   ]
  },
  {
   "cell_type": "code",
   "execution_count": null,
   "metadata": {},
   "outputs": [],
   "source": [
    "#value of solution\n",
    "value(prob.objective)"
   ]
  },
  {
   "cell_type": "code",
   "execution_count": null,
   "metadata": {},
   "outputs": [],
   "source": [
    "#values of variables\n",
    "for variable in prob.variables():\n",
    "    print(variable.name, \"=\", variable.varValue)"
   ]
  },
  {
   "cell_type": "code",
   "execution_count": null,
   "metadata": {},
   "outputs": [],
   "source": []
  }
 ],
 "metadata": {
  "kernelspec": {
   "display_name": "Python 3 (ipykernel)",
   "language": "python",
   "name": "python3"
  },
  "language_info": {
   "codemirror_mode": {
    "name": "ipython",
    "version": 3
   },
   "file_extension": ".py",
   "mimetype": "text/x-python",
   "name": "python",
   "nbconvert_exporter": "python",
   "pygments_lexer": "ipython3",
   "version": "3.9.7"
  }
 },
 "nbformat": 4,
 "nbformat_minor": 4
}
