{
 "cells": [
  {
   "cell_type": "markdown",
   "metadata": {},
   "source": [
    "# Exceptions\n",
    "\n",
    "Errors detected during execution are called exceptions and are not unconditionally fatal: you may actually work with them. \n",
    "\n",
    "Syntax:\n",
    "\n",
    "    -- try: ... except: ....\n",
    "    \n",
    "    -- try: ... except <specificException>: ....\n",
    "    \n",
    "    -- try: ... except <specificException> as someName: ....\n",
    "    \n",
    "    -- try: ... except (<specificException1>,<specificException2>,...): ....\n",
    "        \n",
    "    -- try: ... except: ... else: ....\n",
    "    \n",
    "https://docs.python.org/3.8/reference/compound_stmts.html\n",
    "\n",
    "https://docs.python.org/3/library/exceptions.html"
   ]
  },
  {
   "cell_type": "code",
   "execution_count": 5,
   "metadata": {},
   "outputs": [],
   "source": [
    "def average(List): #function to find the average\n",
    "    try:\n",
    "        return sum(List)/len(List)\n",
    "    except:\n",
    "        print(\"Something went wrong...\")\n",
    "    return 10\n",
    "   "
   ]
  },
  {
   "cell_type": "code",
   "execution_count": 6,
   "metadata": {},
   "outputs": [
    {
     "name": "stdout",
     "output_type": "stream",
     "text": [
      "3.5\n",
      "Something went wrong...\n",
      "10\n"
     ]
    }
   ],
   "source": [
    "List1=[1,2,3,4,5,6]\n",
    "print(average(List1))\n",
    "List2=[]\n",
    "print(average(List2))"
   ]
  },
  {
   "cell_type": "code",
   "execution_count": null,
   "metadata": {},
   "outputs": [],
   "source": [
    "def average(List): #function to find the average\n",
    "    try:\n",
    "        return sum(List)/len(List)\n",
    "    except ZeroDivisionError:\n",
    "        print(\"List cannot be empty...\")\n",
    "    except:\n",
    "        print(\"Some other error\")\n",
    "    else:\n",
    "        print(\"No error\")  # will we ever reach this?\n",
    "   "
   ]
  },
  {
   "cell_type": "code",
   "execution_count": null,
   "metadata": {},
   "outputs": [],
   "source": [
    "print(average(List1))\n",
    "print(average(List2))\n",
    "List3 = [\"abc\",\"defg\"]\n",
    "print(average(List3))"
   ]
  },
  {
   "cell_type": "markdown",
   "metadata": {},
   "source": [
    "## Assertions"
   ]
  },
  {
   "cell_type": "code",
   "execution_count": null,
   "metadata": {},
   "outputs": [],
   "source": [
    "def average(List): #function to find the average\n",
    "    assert len(List) != 0, \"length of list cannot be zero\"\n",
    "    return sum(List)/len(List)\n",
    "  \n",
    "   "
   ]
  },
  {
   "cell_type": "code",
   "execution_count": null,
   "metadata": {},
   "outputs": [],
   "source": [
    "average(List2)"
   ]
  }
 ],
 "metadata": {
  "kernelspec": {
   "display_name": "Python 3",
   "language": "python",
   "name": "python3"
  },
  "language_info": {
   "codemirror_mode": {
    "name": "ipython",
    "version": 3
   },
   "file_extension": ".py",
   "mimetype": "text/x-python",
   "name": "python",
   "nbconvert_exporter": "python",
   "pygments_lexer": "ipython3",
   "version": "3.7.1"
  }
 },
 "nbformat": 4,
 "nbformat_minor": 4
}
