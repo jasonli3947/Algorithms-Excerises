{
 "cells": [
  {
   "cell_type": "markdown",
   "metadata": {},
   "source": [
    "# Finding an item in a sorted list\n",
    "\n",
    "\n",
    "* The python library\n",
    "* The random and math modules\n",
    "* Functions\n",
    "* Introduction to complexity and algorithm analysis\n",
    "* Timing your code"
   ]
  },
  {
   "cell_type": "markdown",
   "metadata": {},
   "source": [
    "## Generate a random list"
   ]
  },
  {
   "cell_type": "code",
   "execution_count": 2,
   "metadata": {},
   "outputs": [
    {
     "name": "stdout",
     "output_type": "stream",
     "text": [
      "[28, 14, 21, 12, 16]\n"
     ]
    }
   ],
   "source": [
    "import random\n",
    "\n",
    "\n",
    "# Generate 5 random numbers in the range 10-29\n",
    "randomList = random.sample(range(10,30), 5)\n",
    "print(randomList)"
   ]
  },
  {
   "cell_type": "code",
   "execution_count": 3,
   "metadata": {},
   "outputs": [
    {
     "name": "stdout",
     "output_type": "stream",
     "text": [
      "[0, 23, 74, 13, 57, 44, 72, 86, 95, 22, 59, 46, 12, 29, 6, 91, 63, 1, 97, 48, 43, 100, 53, 52, 89, 82, 5, 77, 19, 88, 85, 20, 15, 26, 33, 10, 69, 24, 78, 9, 39, 80, 90, 30, 65, 96, 79, 16, 35, 83]\n"
     ]
    }
   ],
   "source": [
    "import math\n",
    "\n",
    "\n",
    "max_number=100\n",
    "\n",
    "#Generate x random numbers from the range (0,2x)\n",
    "randomList = random.sample(range(max_number+1), math.floor(max_number/2))\n",
    "\n",
    "print(randomList)"
   ]
  },
  {
   "cell_type": "markdown",
   "metadata": {},
   "source": [
    "Sort the list"
   ]
  },
  {
   "cell_type": "code",
   "execution_count": 4,
   "metadata": {},
   "outputs": [
    {
     "name": "stdout",
     "output_type": "stream",
     "text": [
      "[0, 1, 5, 6, 9, 10, 12, 13, 15, 16, 19, 20, 22, 23, 24, 26, 29, 30, 33, 35, 39, 43, 44, 46, 48, 52, 53, 57, 59, 63, 65, 69, 72, 74, 77, 78, 79, 80, 82, 83, 85, 86, 88, 89, 90, 91, 95, 96, 97, 100]\n"
     ]
    }
   ],
   "source": [
    "randomList.sort()\n",
    "\n",
    "print(randomList)"
   ]
  },
  {
   "cell_type": "markdown",
   "metadata": {},
   "source": [
    "## Iterate over list to find item"
   ]
  },
  {
   "cell_type": "code",
   "execution_count": 5,
   "metadata": {},
   "outputs": [],
   "source": [
    "# findItem iterates over the list and return True if item is found and False otherwise\n",
    "def findItem(myList, item):\n",
    "    i=0\n",
    "    while i<len(myList):\n",
    "        if myList[i]==item:\n",
    "            return True\n",
    "        i = i+1\n",
    "    return False         "
   ]
  },
  {
   "cell_type": "code",
   "execution_count": 6,
   "metadata": {},
   "outputs": [
    {
     "name": "stdout",
     "output_type": "stream",
     "text": [
      "True\n"
     ]
    }
   ],
   "source": [
    "print(findItem(randomList, 6))"
   ]
  },
  {
   "cell_type": "markdown",
   "metadata": {},
   "source": [
    "#### Functions can return more than one value\n",
    "\n",
    "We return True/False and the number of comparisons that were made"
   ]
  },
  {
   "cell_type": "code",
   "execution_count": 7,
   "metadata": {},
   "outputs": [],
   "source": [
    "# findItem iterates over the list and returns two parameters:\n",
    "# 1. True or False, depending on whether or not the item was found\n",
    "# 2. The number of comparisons made by the function\n",
    "\n",
    "def findItemInSortedListSlow(myList, item):\n",
    "    i=0\n",
    "    while i<len(myList):\n",
    "        if myList[i]==item:\n",
    "            return (True,i+1)\n",
    "        i = i+1\n",
    "    return (False,i)        "
   ]
  },
  {
   "cell_type": "code",
   "execution_count": 8,
   "metadata": {},
   "outputs": [
    {
     "name": "stdout",
     "output_type": "stream",
     "text": [
      "The answer is True , 4 comparisons were made\n"
     ]
    }
   ],
   "source": [
    "reply = findItemInSortedListSlow(randomList,6)\n",
    "print(\"The answer is\", reply[0], \",\" , reply[1], \"comparisons were made\")"
   ]
  },
  {
   "cell_type": "markdown",
   "metadata": {},
   "source": [
    "### A better algorithm\n",
    "\n",
    "We use binary search to narrow down the possible values by half in each iteration.\n",
    "\n",
    "This is also called \"Divide and Conquer\","
   ]
  },
  {
   "cell_type": "code",
   "execution_count": 9,
   "metadata": {},
   "outputs": [],
   "source": [
    "\n",
    "\n",
    "# find item using binary search\n",
    "def findItemInSortedListFast(myList, item):\n",
    "    lowerLimit = 0 # smallest possible index for the item\n",
    "    upperLimit = len(myList)-1 # largest possible index for the item\n",
    "    i=0 \n",
    "    while lowerLimit <= upperLimit:\n",
    "        i=i+1\n",
    "        # check if the item is at midpoint. If it is, return True. If it is not, halve the range to the left half if \n",
    "        # the item at midpoint is bigger that the item we are searching for and the right otherwise\n",
    "        midpoint = (upperLimit + lowerLimit) // 2\n",
    "        if myList[midpoint]==item:\n",
    "            return (True,i)\n",
    "        elif myList[midpoint]<item:\n",
    "            lowerLimit = midpoint+1\n",
    "        else:\n",
    "            upperLimit = midpoint-1\n",
    "    return (False,i+1)\n",
    "    \n",
    "    "
   ]
  },
  {
   "cell_type": "code",
   "execution_count": 10,
   "metadata": {},
   "outputs": [
    {
     "name": "stdout",
     "output_type": "stream",
     "text": [
      "The answer is False , 7 comparisons were made\n"
     ]
    }
   ],
   "source": [
    "reply = findItemInSortedListFast(randomList,max_number-1)\n",
    "print(\"The answer is\", reply[0], \",\" , reply[1], \"comparisons were made\")"
   ]
  },
  {
   "cell_type": "markdown",
   "metadata": {},
   "source": [
    "### Timing your code\n",
    "\n",
    "time.perf_counter() is recommended"
   ]
  },
  {
   "cell_type": "code",
   "execution_count": 11,
   "metadata": {},
   "outputs": [
    {
     "name": "stdout",
     "output_type": "stream",
     "text": [
      "In total,  117  comparisons were made and it took  0.00014029999999820575  seconds\n",
      "In total,  516  comparisons were made and it took  0.00042280000000261  seconds\n",
      "11 and 11 positive results\n"
     ]
    }
   ],
   "source": [
    "######\n",
    "# Compare number of comparisons and running time of findItemInSortedListFast and findItemInSortedListSlow\n",
    "######\n",
    "\n",
    "import time\n",
    "\n",
    "# counters for total number of comparisons\n",
    "totalCounterFast = 0\n",
    "totalCounterSlow = 0\n",
    "\n",
    "# total number of positives should be the same in both cases. This is called a sanity check.\n",
    "pos1=0\n",
    "pos2=0\n",
    "\n",
    "repeats = 20\n",
    "\n",
    "\n",
    "#######\n",
    "# Fast\n",
    "#######\n",
    "\n",
    "# Run findItemInSortedListFast \"repeats\" times\n",
    "start_time_fast = time.perf_counter()\n",
    "for i in range(repeats):\n",
    "    reply = findItemInSortedListFast(randomList,i)\n",
    "    totalCounterFast += reply[1]\n",
    "    if reply[0]:\n",
    "        pos1 +=1\n",
    "\n",
    "end_time_fast= time.perf_counter()\n",
    "\n",
    "print(\"In total, \", totalCounterFast, \" comparisons were made and it took \", end_time_fast-start_time_fast, \" seconds\")\n",
    "\n",
    "\n",
    "\n",
    "#######\n",
    "# Slow\n",
    "#######\n",
    "\n",
    "\n",
    "# Run findItemInSortedListSlow \"repeats\" times\n",
    "start_time_slow = time.perf_counter()\n",
    "for i in range(repeats):\n",
    "    reply = findItemInSortedListSlow(randomList,i)\n",
    "    totalCounterSlow += reply[1]\n",
    "    if reply[0]:\n",
    "        pos2 +=1\n",
    "\n",
    "end_time_slow= time.perf_counter()\n",
    "\n",
    "print(\"In total, \", totalCounterSlow, \" comparisons were made and it took \", end_time_slow-start_time_slow, \" seconds\")\n",
    "\n",
    "print(pos1, \"and\", pos2, \"positive results\") # sanity check\n"
   ]
  },
  {
   "cell_type": "code",
   "execution_count": null,
   "metadata": {},
   "outputs": [],
   "source": []
  }
 ],
 "metadata": {
  "kernelspec": {
   "display_name": "Python 3 (ipykernel)",
   "language": "python",
   "name": "python3"
  },
  "language_info": {
   "codemirror_mode": {
    "name": "ipython",
    "version": 3
   },
   "file_extension": ".py",
   "mimetype": "text/x-python",
   "name": "python",
   "nbconvert_exporter": "python",
   "pygments_lexer": "ipython3",
   "version": "3.8.8"
  }
 },
 "nbformat": 4,
 "nbformat_minor": 4
}
