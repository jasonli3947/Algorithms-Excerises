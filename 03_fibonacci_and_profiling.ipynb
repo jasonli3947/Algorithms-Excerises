{
 "cells": [
  {
   "cell_type": "markdown",
   "metadata": {},
   "source": [
    "# The Fibonacci sequence and Profiling\n",
    "\n",
    "The Fibonacci sequence is the following: 0, 1, 1, 2, 3, 5, 8, 13, 21, 34, ..."
   ]
  },
  {
   "cell_type": "code",
   "execution_count": 1,
   "metadata": {},
   "outputs": [],
   "source": [
    "# returns the nth Fibonacci number\n",
    "def fibRecursive(n):\n",
    "    if n == 0:\n",
    "        return 0\n",
    "    elif n == 1:\n",
    "        return 1\n",
    "    else:\n",
    "        return fibRecursive(n-1) + fibRecursive(n-2)\n",
    "\n",
    "# returns the first n Fibonacci numbers    \n",
    "def fibSequence(n):\n",
    "    seq = [ ]\n",
    "    if n > 0:\n",
    "        seq.extend(fibSequence(n-1))\n",
    "    seq.append(fibRecursive(n))\n",
    "    return seq"
   ]
  },
  {
   "cell_type": "code",
   "execution_count": 2,
   "metadata": {},
   "outputs": [
    {
     "data": {
      "text/plain": [
       "[0, 1, 1, 2, 3, 5, 8, 13, 21, 34, 55, 89, 144, 233, 377, 610]"
      ]
     },
     "execution_count": 2,
     "metadata": {},
     "output_type": "execute_result"
    }
   ],
   "source": [
    "fibSequence(15)"
   ]
  },
  {
   "cell_type": "markdown",
   "metadata": {},
   "source": [
    "## Profiling\n",
    "\n",
    "Profiling refers to the the statistics of a program itself (e.g., time, memory, number of calls)\n",
    "\n",
    "https://docs.python.org/3/library/profile.html#module-cProfile\n",
    "\n",
    "https://ipython.readthedocs.io/en/stable/interactive/magics.html\n",
    "\n",
    "https://jakevdp.github.io/PythonDataScienceHandbook/01.07-timing-and-profiling.html"
   ]
  },
  {
   "cell_type": "code",
   "execution_count": 3,
   "metadata": {},
   "outputs": [
    {
     "name": "stdout",
     "output_type": "stream",
     "text": [
      "         5201 function calls (52 primitive calls) in 0.078 seconds\n",
      "\n",
      "   Ordered by: standard name\n",
      "\n",
      "   ncalls  tottime  percall  cumtime  percall filename:lineno(function)\n",
      "       16    0.000    0.000    0.000    0.000 :0(append)\n",
      "        1    0.000    0.000    0.078    0.078 :0(exec)\n",
      "       15    0.000    0.000    0.000    0.000 :0(extend)\n",
      "        1    0.000    0.000    0.000    0.000 :0(setprofile)\n",
      "     16/1    0.000    0.000    0.078    0.078 <ipython-input-1-90814ced4e1f>:11(fibSequence)\n",
      "  5150/16    0.078    0.000    0.078    0.005 <ipython-input-1-90814ced4e1f>:2(fibRecursive)\n",
      "        1    0.000    0.000    0.078    0.078 <string>:1(<module>)\n",
      "        1    0.000    0.000    0.078    0.078 profile:0(fibSequence(15))\n",
      "        0    0.000             0.000          profile:0(profiler)\n",
      "\n",
      "\n"
     ]
    }
   ],
   "source": [
    "import profile\n",
    "\n",
    "profile.run('fibSequence(15)')"
   ]
  },
  {
   "cell_type": "markdown",
   "metadata": {},
   "source": [
    "# Profiling with Jupyter\n",
    "\n",
    "IPython magic commands:\n",
    "\n",
    "- %time: Time the execution of a single statement\n",
    "- %timeit: Time repeated execution of a single statement for more accuracy\n",
    "\n",
    "You can install some extensions to get other profiling feature, like the **memory_profiler** extension."
   ]
  },
  {
   "cell_type": "code",
   "execution_count": 8,
   "metadata": {},
   "outputs": [
    {
     "name": "stdout",
     "output_type": "stream",
     "text": [
      "Wall time: 2.39 ms\n"
     ]
    },
    {
     "data": {
      "text/plain": [
       "[0, 1, 1, 2, 3, 5, 8, 13, 21, 34, 55, 89, 144, 233, 377, 610]"
      ]
     },
     "execution_count": 8,
     "metadata": {},
     "output_type": "execute_result"
    }
   ],
   "source": [
    "%time fibSequence(15)"
   ]
  },
  {
   "cell_type": "code",
   "execution_count": 9,
   "metadata": {},
   "outputs": [
    {
     "name": "stdout",
     "output_type": "stream",
     "text": [
      "2.15 ms ± 222 µs per loop (mean ± std. dev. of 7 runs, 100 loops each)\n"
     ]
    }
   ],
   "source": [
    "%timeit fibSequence(15)"
   ]
  },
  {
   "cell_type": "code",
   "execution_count": null,
   "metadata": {},
   "outputs": [],
   "source": []
  }
 ],
 "metadata": {
  "kernelspec": {
   "display_name": "Python 3 (ipykernel)",
   "language": "python",
   "name": "python3"
  },
  "language_info": {
   "codemirror_mode": {
    "name": "ipython",
    "version": 3
   },
   "file_extension": ".py",
   "mimetype": "text/x-python",
   "name": "python",
   "nbconvert_exporter": "python",
   "pygments_lexer": "ipython3",
   "version": "3.8.8"
  }
 },
 "nbformat": 4,
 "nbformat_minor": 4
}
