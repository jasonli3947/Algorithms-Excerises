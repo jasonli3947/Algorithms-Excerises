{
 "cells": [
  {
   "cell_type": "code",
   "execution_count": null,
   "metadata": {},
   "outputs": [],
   "source": [
    "import pandas as pd\n",
    "\n",
    "import matplotlib.pyplot as plt\n",
    "\n",
    "\n",
    "beer=pd.read_csv(\"beer.csv\")\n",
    "beer.head()\n",
    "#beer=beer.dropna(axis=0, how='any') #dropna drops any NaN value; axis=0 is rows axis=1 is columns\n"
   ]
  },
  {
   "cell_type": "code",
   "execution_count": null,
   "metadata": {},
   "outputs": [],
   "source": [
    "midtemp=beer.columns[1]\n",
    "drank = beer.columns[6]\n",
    "x=beer[midtemp]\n",
    "y=beer[drank]\n",
    "\n",
    "\n",
    "\n",
    "#beer_weekday=beer.loc[beer['Final de Semana'] == 0]\n",
    "#beer_weekend=beer.loc[beer['Final de Semana'] == 1]\n",
    "#x_weekday=beer_weekday[midtemp]\n",
    "#y_weekday=beer_weekday[drank]\n",
    "#x_weekend=beer_weekend[midtemp]\n",
    "#y_weekend=beer_weekend[drank]"
   ]
  },
  {
   "cell_type": "code",
   "execution_count": null,
   "metadata": {},
   "outputs": [],
   "source": [
    "#fig, ax = plt.subplots()\n",
    "\n",
    "plt.scatter(x,y, color=\"black\")\n",
    "plt.show()\n",
    "\n"
   ]
  },
  {
   "cell_type": "code",
   "execution_count": null,
   "metadata": {},
   "outputs": [],
   "source": [
    "import numpy as np\n",
    "from sklearn.linear_model import LinearRegression\n",
    "temperature=np.array(x).reshape((-1,1)) # -1 means: numpy figure out number of rows!\n",
    "volume=np.array(y).reshape((-1,1))\n",
    "\n",
    "#temperature"
   ]
  },
  {
   "cell_type": "code",
   "execution_count": null,
   "metadata": {},
   "outputs": [],
   "source": [
    "model = LinearRegression()\n",
    "model.fit(temperature,volume)"
   ]
  },
  {
   "cell_type": "code",
   "execution_count": null,
   "metadata": {},
   "outputs": [],
   "source": [
    "print('intercept:', model.intercept_)\n",
    "print('slope:', model.coef_)"
   ]
  },
  {
   "cell_type": "code",
   "execution_count": null,
   "metadata": {},
   "outputs": [],
   "source": [
    "drink_pred = model.predict(temperature)\n",
    "plt.scatter(x,y)\n",
    "#plt.figure()\n",
    "plt.plot(temperature, drink_pred, color='red')"
   ]
  },
  {
   "cell_type": "code",
   "execution_count": null,
   "metadata": {},
   "outputs": [],
   "source": []
  },
  {
   "cell_type": "code",
   "execution_count": null,
   "metadata": {},
   "outputs": [],
   "source": []
  }
 ],
 "metadata": {
  "kernelspec": {
   "display_name": "Python 3",
   "language": "python",
   "name": "python3"
  },
  "language_info": {
   "codemirror_mode": {
    "name": "ipython",
    "version": 3
   },
   "file_extension": ".py",
   "mimetype": "text/x-python",
   "name": "python",
   "nbconvert_exporter": "python",
   "pygments_lexer": "ipython3",
   "version": "3.8.5"
  }
 },
 "nbformat": 4,
 "nbformat_minor": 4
}
