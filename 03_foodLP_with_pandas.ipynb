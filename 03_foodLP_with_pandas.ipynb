{
 "cells": [
  {
   "cell_type": "code",
   "execution_count": 2,
   "metadata": {},
   "outputs": [
    {
     "name": "stdout",
     "output_type": "stream",
     "text": [
      "Collecting pulp\n",
      "  Downloading PuLP-2.6.0-py3-none-any.whl (14.2 MB)\n",
      "Installing collected packages: pulp\n",
      "Successfully installed pulp-2.6.0\n"
     ]
    }
   ],
   "source": [
    "!pip install pulp"
   ]
  },
  {
   "cell_type": "code",
   "execution_count": 3,
   "metadata": {},
   "outputs": [
    {
     "data": {
      "text/html": [
       "<div>\n",
       "<style scoped>\n",
       "    .dataframe tbody tr th:only-of-type {\n",
       "        vertical-align: middle;\n",
       "    }\n",
       "\n",
       "    .dataframe tbody tr th {\n",
       "        vertical-align: top;\n",
       "    }\n",
       "\n",
       "    .dataframe thead th {\n",
       "        text-align: right;\n",
       "    }\n",
       "</style>\n",
       "<table border=\"1\" class=\"dataframe\">\n",
       "  <thead>\n",
       "    <tr style=\"text-align: right;\">\n",
       "      <th></th>\n",
       "      <th>Food and Serving</th>\n",
       "      <th>Calories</th>\n",
       "      <th>CaloriesÊfrom Fat</th>\n",
       "      <th>Total Fat</th>\n",
       "      <th>Total Fat.1</th>\n",
       "      <th>Sodium</th>\n",
       "      <th>Sodium.1</th>\n",
       "      <th>Potassium</th>\n",
       "      <th>Potassium.1</th>\n",
       "      <th>Total Carbo-hydrate</th>\n",
       "      <th>...</th>\n",
       "      <th>Protein</th>\n",
       "      <th>Vitamin A</th>\n",
       "      <th>Vitamin C</th>\n",
       "      <th>Calcium</th>\n",
       "      <th>ÊÊIronÊÊ</th>\n",
       "      <th>Saturated Fat</th>\n",
       "      <th>Saturated Fat.1</th>\n",
       "      <th>Chole-sterol</th>\n",
       "      <th>Chole-sterol.1</th>\n",
       "      <th>Food Type</th>\n",
       "    </tr>\n",
       "  </thead>\n",
       "  <tbody>\n",
       "    <tr>\n",
       "      <th>0</th>\n",
       "      <td>NaN</td>\n",
       "      <td>NaN</td>\n",
       "      <td>NaN</td>\n",
       "      <td>(g)</td>\n",
       "      <td>(%DV)</td>\n",
       "      <td>(g)</td>\n",
       "      <td>(%DV)</td>\n",
       "      <td>(g)</td>\n",
       "      <td>(%DV)</td>\n",
       "      <td>(g)</td>\n",
       "      <td>...</td>\n",
       "      <td>(g)</td>\n",
       "      <td>(%DV)</td>\n",
       "      <td>(%DV)</td>\n",
       "      <td>(%DV)</td>\n",
       "      <td>(%DV)</td>\n",
       "      <td>(%DV)</td>\n",
       "      <td>(mg)Ê</td>\n",
       "      <td>(%DV)</td>\n",
       "      <td>(mg)Ê</td>\n",
       "      <td>NaN</td>\n",
       "    </tr>\n",
       "    <tr>\n",
       "      <th>1</th>\n",
       "      <td>Asparagus, 5 spears (93 g/3.3 oz)</td>\n",
       "      <td>20.0</td>\n",
       "      <td>0.0</td>\n",
       "      <td>0</td>\n",
       "      <td>0</td>\n",
       "      <td>0</td>\n",
       "      <td>0</td>\n",
       "      <td>230</td>\n",
       "      <td>7</td>\n",
       "      <td>4</td>\n",
       "      <td>...</td>\n",
       "      <td>2</td>\n",
       "      <td>10</td>\n",
       "      <td>15</td>\n",
       "      <td>2</td>\n",
       "      <td>2</td>\n",
       "      <td>NaN</td>\n",
       "      <td>NaN</td>\n",
       "      <td>NaN</td>\n",
       "      <td>NaN</td>\n",
       "      <td>Vegetables, Serving Size (gram weight/Êounce w...</td>\n",
       "    </tr>\n",
       "    <tr>\n",
       "      <th>2</th>\n",
       "      <td>Bell Pepper, 1 medium (148 g/5.3 oz)</td>\n",
       "      <td>25.0</td>\n",
       "      <td>0.0</td>\n",
       "      <td>0</td>\n",
       "      <td>0</td>\n",
       "      <td>40</td>\n",
       "      <td>2</td>\n",
       "      <td>220</td>\n",
       "      <td>6</td>\n",
       "      <td>6</td>\n",
       "      <td>...</td>\n",
       "      <td>1</td>\n",
       "      <td>4</td>\n",
       "      <td>190</td>\n",
       "      <td>2</td>\n",
       "      <td>4</td>\n",
       "      <td>NaN</td>\n",
       "      <td>NaN</td>\n",
       "      <td>NaN</td>\n",
       "      <td>NaN</td>\n",
       "      <td>Vegetables, Serving Size (gram weight/Êounce w...</td>\n",
       "    </tr>\n",
       "    <tr>\n",
       "      <th>3</th>\n",
       "      <td>Broccoli, 1 medium stalk (148 g/5.3 oz)</td>\n",
       "      <td>45.0</td>\n",
       "      <td>0.0</td>\n",
       "      <td>0.5</td>\n",
       "      <td>1</td>\n",
       "      <td>80</td>\n",
       "      <td>3</td>\n",
       "      <td>460</td>\n",
       "      <td>13</td>\n",
       "      <td>8</td>\n",
       "      <td>...</td>\n",
       "      <td>4</td>\n",
       "      <td>6</td>\n",
       "      <td>220</td>\n",
       "      <td>6</td>\n",
       "      <td>6</td>\n",
       "      <td>NaN</td>\n",
       "      <td>NaN</td>\n",
       "      <td>NaN</td>\n",
       "      <td>NaN</td>\n",
       "      <td>Vegetables, Serving Size (gram weight/Êounce w...</td>\n",
       "    </tr>\n",
       "    <tr>\n",
       "      <th>4</th>\n",
       "      <td>Carrot, 1 carrot, 7\" long,Ê1 1/4\" diameter (78...</td>\n",
       "      <td>30.0</td>\n",
       "      <td>0.0</td>\n",
       "      <td>0</td>\n",
       "      <td>0</td>\n",
       "      <td>60</td>\n",
       "      <td>3</td>\n",
       "      <td>250</td>\n",
       "      <td>7</td>\n",
       "      <td>7</td>\n",
       "      <td>...</td>\n",
       "      <td>1</td>\n",
       "      <td>110</td>\n",
       "      <td>10</td>\n",
       "      <td>2</td>\n",
       "      <td>2</td>\n",
       "      <td>NaN</td>\n",
       "      <td>NaN</td>\n",
       "      <td>NaN</td>\n",
       "      <td>NaN</td>\n",
       "      <td>Vegetables, Serving Size (gram weight/Êounce w...</td>\n",
       "    </tr>\n",
       "  </tbody>\n",
       "</table>\n",
       "<p>5 rows × 24 columns</p>\n",
       "</div>"
      ],
      "text/plain": [
       "                                    Food and Serving  Calories  \\\n",
       "0                                                NaN       NaN   \n",
       "1                  Asparagus, 5 spears (93 g/3.3 oz)      20.0   \n",
       "2               Bell Pepper, 1 medium (148 g/5.3 oz)      25.0   \n",
       "3            Broccoli, 1 medium stalk (148 g/5.3 oz)      45.0   \n",
       "4  Carrot, 1 carrot, 7\" long,Ê1 1/4\" diameter (78...      30.0   \n",
       "\n",
       "   CaloriesÊfrom Fat Total Fat Total Fat.1 Sodium Sodium.1 Potassium  \\\n",
       "0                NaN       (g)       (%DV)    (g)    (%DV)       (g)   \n",
       "1                0.0         0           0      0        0       230   \n",
       "2                0.0         0           0     40        2       220   \n",
       "3                0.0       0.5           1     80        3       460   \n",
       "4                0.0         0           0     60        3       250   \n",
       "\n",
       "  Potassium.1 Total Carbo-hydrate  ... Protein Vitamin A Vitamin C Calcium  \\\n",
       "0       (%DV)                 (g)  ...     (g)     (%DV)     (%DV)   (%DV)   \n",
       "1           7                   4  ...       2        10        15       2   \n",
       "2           6                   6  ...       1         4       190       2   \n",
       "3          13                   8  ...       4         6       220       6   \n",
       "4           7                   7  ...       1       110        10       2   \n",
       "\n",
       "  ÊÊIronÊÊ Saturated Fat Saturated Fat.1 Chole-sterol Chole-sterol.1  \\\n",
       "0    (%DV)         (%DV)           (mg)Ê        (%DV)          (mg)Ê   \n",
       "1        2           NaN             NaN          NaN            NaN   \n",
       "2        4           NaN             NaN          NaN            NaN   \n",
       "3        6           NaN             NaN          NaN            NaN   \n",
       "4        2           NaN             NaN          NaN            NaN   \n",
       "\n",
       "                                           Food Type  \n",
       "0                                                NaN  \n",
       "1  Vegetables, Serving Size (gram weight/Êounce w...  \n",
       "2  Vegetables, Serving Size (gram weight/Êounce w...  \n",
       "3  Vegetables, Serving Size (gram weight/Êounce w...  \n",
       "4  Vegetables, Serving Size (gram weight/Êounce w...  \n",
       "\n",
       "[5 rows x 24 columns]"
      ]
     },
     "execution_count": 3,
     "metadata": {},
     "output_type": "execute_result"
    }
   ],
   "source": [
    "from pulp import * \n",
    "import pandas as pd\n",
    "df = pd.read_csv(\"NutritionalFacts_Fruit_Vegetables_Seafood.csv\", encoding='latin-1')\n",
    "df.head()"
   ]
  },
  {
   "cell_type": "code",
   "execution_count": 4,
   "metadata": {},
   "outputs": [
    {
     "data": {
      "text/html": [
       "<div>\n",
       "<style scoped>\n",
       "    .dataframe tbody tr th:only-of-type {\n",
       "        vertical-align: middle;\n",
       "    }\n",
       "\n",
       "    .dataframe tbody tr th {\n",
       "        vertical-align: top;\n",
       "    }\n",
       "\n",
       "    .dataframe thead th {\n",
       "        text-align: right;\n",
       "    }\n",
       "</style>\n",
       "<table border=\"1\" class=\"dataframe\">\n",
       "  <thead>\n",
       "    <tr style=\"text-align: right;\">\n",
       "      <th></th>\n",
       "      <th>Food</th>\n",
       "      <th>Sodium</th>\n",
       "      <th>Potassium</th>\n",
       "      <th>Calcium</th>\n",
       "    </tr>\n",
       "  </thead>\n",
       "  <tbody>\n",
       "    <tr>\n",
       "      <th>1</th>\n",
       "      <td>Asparagus, 5 spears (93 g/3.3 oz)</td>\n",
       "      <td>0</td>\n",
       "      <td>7</td>\n",
       "      <td>2</td>\n",
       "    </tr>\n",
       "    <tr>\n",
       "      <th>2</th>\n",
       "      <td>Bell Pepper, 1 medium (148 g/5.3 oz)</td>\n",
       "      <td>2</td>\n",
       "      <td>6</td>\n",
       "      <td>2</td>\n",
       "    </tr>\n",
       "    <tr>\n",
       "      <th>3</th>\n",
       "      <td>Broccoli, 1 medium stalk (148 g/5.3 oz)</td>\n",
       "      <td>3</td>\n",
       "      <td>13</td>\n",
       "      <td>6</td>\n",
       "    </tr>\n",
       "    <tr>\n",
       "      <th>4</th>\n",
       "      <td>Carrot, 1 carrot, 7\" long,Ê1 1/4\" diameter (78...</td>\n",
       "      <td>3</td>\n",
       "      <td>7</td>\n",
       "      <td>2</td>\n",
       "    </tr>\n",
       "    <tr>\n",
       "      <th>5</th>\n",
       "      <td>Cauliflower, 1/6 medium head (99 g/3.5 oz)</td>\n",
       "      <td>1</td>\n",
       "      <td>8</td>\n",
       "      <td>2</td>\n",
       "    </tr>\n",
       "    <tr>\n",
       "      <th>6</th>\n",
       "      <td>Celery, 2 medium stalks (110 g/3.9 oz)</td>\n",
       "      <td>5</td>\n",
       "      <td>7</td>\n",
       "      <td>4</td>\n",
       "    </tr>\n",
       "    <tr>\n",
       "      <th>7</th>\n",
       "      <td>Cucumber, 1/3 medium (99 g/3.5 oz)</td>\n",
       "      <td>0</td>\n",
       "      <td>4</td>\n",
       "      <td>2</td>\n",
       "    </tr>\n",
       "    <tr>\n",
       "      <th>8</th>\n",
       "      <td>Green (Snap) Beans, 3/4 cup cut (83 g/3.0 oz)</td>\n",
       "      <td>0</td>\n",
       "      <td>6</td>\n",
       "      <td>4</td>\n",
       "    </tr>\n",
       "  </tbody>\n",
       "</table>\n",
       "</div>"
      ],
      "text/plain": [
       "                                                Food Sodium Potassium Calcium\n",
       "1                  Asparagus, 5 spears (93 g/3.3 oz)      0         7       2\n",
       "2               Bell Pepper, 1 medium (148 g/5.3 oz)      2         6       2\n",
       "3            Broccoli, 1 medium stalk (148 g/5.3 oz)      3        13       6\n",
       "4  Carrot, 1 carrot, 7\" long,Ê1 1/4\" diameter (78...      3         7       2\n",
       "5         Cauliflower, 1/6 medium head (99 g/3.5 oz)      1         8       2\n",
       "6             Celery, 2 medium stalks (110 g/3.9 oz)      5         7       4\n",
       "7                 Cucumber, 1/3 medium (99 g/3.5 oz)      0         4       2\n",
       "8      Green (Snap) Beans, 3/4 cup cut (83 g/3.0 oz)      0         6       4"
      ]
     },
     "execution_count": 4,
     "metadata": {},
     "output_type": "execute_result"
    }
   ],
   "source": [
    "dfsmall=df.filter(items=['Food and Serving','Sodium.1', 'Potassium.1', 'Calcium'], axis=1).filter(items=range(1,9), axis=0)\n",
    "dfsmall.columns=('Food','Sodium','Potassium','Calcium')\n",
    "dfsmall"
   ]
  },
  {
   "cell_type": "code",
   "execution_count": 5,
   "metadata": {},
   "outputs": [
    {
     "data": {
      "text/plain": [
       "['Aspar', 'Bell ', 'Brocc', 'Carro', 'Cauli', 'Celer', 'Cucum', 'Green']"
      ]
     },
     "execution_count": 5,
     "metadata": {},
     "output_type": "execute_result"
    }
   ],
   "source": [
    "short_names = dfsmall['Food'].tolist()\n",
    "short_names=[elem[:5] for elem in short_names]\n",
    "short_names\n",
    "\n",
    "\n"
   ]
  },
  {
   "cell_type": "code",
   "execution_count": 6,
   "metadata": {},
   "outputs": [],
   "source": [
    "for i in range(8): \n",
    "    dfsmall.at[i+1,'Food'] = short_names[i]"
   ]
  },
  {
   "cell_type": "code",
   "execution_count": 7,
   "metadata": {},
   "outputs": [
    {
     "data": {
      "text/html": [
       "<div>\n",
       "<style scoped>\n",
       "    .dataframe tbody tr th:only-of-type {\n",
       "        vertical-align: middle;\n",
       "    }\n",
       "\n",
       "    .dataframe tbody tr th {\n",
       "        vertical-align: top;\n",
       "    }\n",
       "\n",
       "    .dataframe thead th {\n",
       "        text-align: right;\n",
       "    }\n",
       "</style>\n",
       "<table border=\"1\" class=\"dataframe\">\n",
       "  <thead>\n",
       "    <tr style=\"text-align: right;\">\n",
       "      <th></th>\n",
       "      <th>Food</th>\n",
       "      <th>Sodium</th>\n",
       "      <th>Potassium</th>\n",
       "      <th>Calcium</th>\n",
       "    </tr>\n",
       "  </thead>\n",
       "  <tbody>\n",
       "    <tr>\n",
       "      <th>1</th>\n",
       "      <td>Aspar</td>\n",
       "      <td>0</td>\n",
       "      <td>7</td>\n",
       "      <td>2</td>\n",
       "    </tr>\n",
       "    <tr>\n",
       "      <th>2</th>\n",
       "      <td>Bell</td>\n",
       "      <td>2</td>\n",
       "      <td>6</td>\n",
       "      <td>2</td>\n",
       "    </tr>\n",
       "    <tr>\n",
       "      <th>3</th>\n",
       "      <td>Brocc</td>\n",
       "      <td>3</td>\n",
       "      <td>13</td>\n",
       "      <td>6</td>\n",
       "    </tr>\n",
       "    <tr>\n",
       "      <th>4</th>\n",
       "      <td>Carro</td>\n",
       "      <td>3</td>\n",
       "      <td>7</td>\n",
       "      <td>2</td>\n",
       "    </tr>\n",
       "    <tr>\n",
       "      <th>5</th>\n",
       "      <td>Cauli</td>\n",
       "      <td>1</td>\n",
       "      <td>8</td>\n",
       "      <td>2</td>\n",
       "    </tr>\n",
       "    <tr>\n",
       "      <th>6</th>\n",
       "      <td>Celer</td>\n",
       "      <td>5</td>\n",
       "      <td>7</td>\n",
       "      <td>4</td>\n",
       "    </tr>\n",
       "    <tr>\n",
       "      <th>7</th>\n",
       "      <td>Cucum</td>\n",
       "      <td>0</td>\n",
       "      <td>4</td>\n",
       "      <td>2</td>\n",
       "    </tr>\n",
       "    <tr>\n",
       "      <th>8</th>\n",
       "      <td>Green</td>\n",
       "      <td>0</td>\n",
       "      <td>6</td>\n",
       "      <td>4</td>\n",
       "    </tr>\n",
       "  </tbody>\n",
       "</table>\n",
       "</div>"
      ],
      "text/plain": [
       "    Food Sodium Potassium Calcium\n",
       "1  Aspar      0         7       2\n",
       "2  Bell       2         6       2\n",
       "3  Brocc      3        13       6\n",
       "4  Carro      3         7       2\n",
       "5  Cauli      1         8       2\n",
       "6  Celer      5         7       4\n",
       "7  Cucum      0         4       2\n",
       "8  Green      0         6       4"
      ]
     },
     "execution_count": 7,
     "metadata": {},
     "output_type": "execute_result"
    }
   ],
   "source": [
    "dfsmall"
   ]
  },
  {
   "cell_type": "code",
   "execution_count": 8,
   "metadata": {},
   "outputs": [],
   "source": [
    "prob = LpProblem(name=\"fruits\", sense=LpMinimize)\n",
    "#items=(name for name in dfsmall['Food'])\n",
    "foods = pulp.LpVariable.dicts('food',(name for name in dfsmall['Food']),\n",
    "                                   lowBound=0, upBound=5,\n",
    "                                   cat='Continuous')\n"
   ]
  },
  {
   "cell_type": "code",
   "execution_count": 9,
   "metadata": {
    "scrolled": true
   },
   "outputs": [
    {
     "data": {
      "text/plain": [
       "{'Aspar': food_Aspar,\n",
       " 'Bell ': food_Bell_,\n",
       " 'Brocc': food_Brocc,\n",
       " 'Carro': food_Carro,\n",
       " 'Cauli': food_Cauli,\n",
       " 'Celer': food_Celer,\n",
       " 'Cucum': food_Cucum,\n",
       " 'Green': food_Green}"
      ]
     },
     "execution_count": 9,
     "metadata": {},
     "output_type": "execute_result"
    }
   ],
   "source": [
    "foods"
   ]
  },
  {
   "cell_type": "code",
   "execution_count": 14,
   "metadata": {},
   "outputs": [
    {
     "data": {
      "text/plain": [
       "'Aspar'"
      ]
     },
     "execution_count": 14,
     "metadata": {},
     "output_type": "execute_result"
    }
   ],
   "source": [
    "dfsmall.loc[1,'Food']"
   ]
  },
  {
   "cell_type": "code",
   "execution_count": 10,
   "metadata": {},
   "outputs": [
    {
     "data": {
      "text/plain": [
       "fruits:\n",
       "MINIMIZE\n",
       "2*food_Bell_ + 3*food_Brocc + 3*food_Carro + 1*food_Cauli + 5*food_Celer + 0\n",
       "SUBJECT TO\n",
       "_C1: 7 food_Aspar + 6 food_Bell_ + 13 food_Brocc + 7 food_Carro + 8 food_Cauli\n",
       " + 7 food_Celer + 4 food_Cucum + 6 food_Green >= 70\n",
       "\n",
       "_C2: 2 food_Aspar + 2 food_Bell_ + 6 food_Brocc + 2 food_Carro + 2 food_Cauli\n",
       " + 4 food_Celer + 2 food_Cucum + 4 food_Green >= 55\n",
       "\n",
       "VARIABLES\n",
       "food_Aspar <= 5 Continuous\n",
       "food_Bell_ <= 5 Continuous\n",
       "food_Brocc <= 5 Continuous\n",
       "food_Carro <= 5 Continuous\n",
       "food_Cauli <= 5 Continuous\n",
       "food_Celer <= 5 Continuous\n",
       "food_Cucum <= 5 Continuous\n",
       "food_Green <= 5 Continuous"
      ]
     },
     "execution_count": 10,
     "metadata": {},
     "output_type": "execute_result"
    }
   ],
   "source": [
    "#add objective\n",
    "prob += lpSum([foods[dfsmall.loc[i,'Food']]*int(dfsmall.loc[i,'Sodium']) for i in dfsmall.index])\n",
    "\n",
    "#add contraints\n",
    "prob += lpSum([foods[dfsmall.loc[i,'Food']]*int(dfsmall.loc[i,'Potassium']) for i in dfsmall.index]) >=70\n",
    "prob += lpSum([foods[dfsmall.loc[i,'Food']]*int(dfsmall.loc[i,'Calcium']) for i in dfsmall.index]) >=55\n",
    "\n",
    "prob"
   ]
  },
  {
   "cell_type": "code",
   "execution_count": 11,
   "metadata": {},
   "outputs": [
    {
     "data": {
      "text/plain": [
       "'Optimal'"
      ]
     },
     "execution_count": 11,
     "metadata": {},
     "output_type": "execute_result"
    }
   ],
   "source": [
    "prob.solve()\n",
    "LpStatus[prob.status]"
   ]
  },
  {
   "cell_type": "code",
   "execution_count": 12,
   "metadata": {},
   "outputs": [
    {
     "name": "stdout",
     "output_type": "stream",
     "text": [
      "Amount of  food_Aspar :  5.0\n",
      "Amount of  food_Bell_ :  0.0\n",
      "Amount of  food_Brocc :  2.5\n",
      "Amount of  food_Carro :  0.0\n",
      "Amount of  food_Cauli :  0.0\n",
      "Amount of  food_Celer :  0.0\n",
      "Amount of  food_Cucum :  5.0\n",
      "Amount of  food_Green :  5.0\n"
     ]
    }
   ],
   "source": [
    "for i in foods:\n",
    "    print('Amount of ', foods[i], ': ', foods[i].varValue)"
   ]
  },
  {
   "cell_type": "code",
   "execution_count": 13,
   "metadata": {},
   "outputs": [
    {
     "data": {
      "text/plain": [
       "7.5"
      ]
     },
     "execution_count": 13,
     "metadata": {},
     "output_type": "execute_result"
    }
   ],
   "source": [
    "value(prob.objective)"
   ]
  },
  {
   "cell_type": "code",
   "execution_count": null,
   "metadata": {},
   "outputs": [],
   "source": []
  }
 ],
 "metadata": {
  "kernelspec": {
   "display_name": "Python 3 (ipykernel)",
   "language": "python",
   "name": "python3"
  },
  "language_info": {
   "codemirror_mode": {
    "name": "ipython",
    "version": 3
   },
   "file_extension": ".py",
   "mimetype": "text/x-python",
   "name": "python",
   "nbconvert_exporter": "python",
   "pygments_lexer": "ipython3",
   "version": "3.9.7"
  }
 },
 "nbformat": 4,
 "nbformat_minor": 4
}
